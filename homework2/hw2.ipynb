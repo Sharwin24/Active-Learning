{
 "cells": [
  {
   "cell_type": "markdown",
   "id": "ba433b89",
   "metadata": {},
   "source": [
    "# Homework 2: Infotaxis\n",
    "Due April 16, 2025\n",
    "\n",
    "## Preliminaries\n",
    "A robot is moving on a 25x25 grid. At each time step the robot can move up, down, left, or right for one grid cell. There is an unknown signal source in the environment emitting signals. The robot is equipped with a binary sensor with a reading {0, 1}. The measurement model can be formulated as a Bernoulli distribution, and the likelihood of the Bernoulli distribution is specified based on the source location and the robot location.\n",
    "\n",
    "<div style=\"text-align: center;\">\n",
    "  <img src=\"grid.png\" alt=\"Grid\" style=\"border-radius: 15px;\">\n",
    "</div>\n",
    "\n",
    "The measurement model in the Infotaxis problem setup. Assuming the letter 'D' is where the signal source is, the shades and the numbers represent the likelihood of registering a sensor reading of '1' if the robot is in that region. The likelihood of registering a sensor reading of '0' is 1 - L(1)\n"
   ]
  },
  {
   "cell_type": "code",
   "execution_count": 125,
   "id": "a53484a4",
   "metadata": {},
   "outputs": [
    {
     "name": "stdout",
     "output_type": "stream",
     "text": [
      "Using device: cuda\n"
     ]
    }
   ],
   "source": [
    "import numpy as np\n",
    "import matplotlib.pyplot as plt\n",
    "import torch\n",
    "\n",
    "# Use the GPU if available\n",
    "DEV = torch.device(\"cuda\" if torch.cuda.is_available() else \"cpu\")\n",
    "print(f\"Using device: {DEV}\")"
   ]
  },
  {
   "cell_type": "markdown",
   "id": "b2a792a9",
   "metadata": {},
   "source": [
    "## Robot Structure\n",
    "\n",
    "```markdown\n",
    "4 4 4 4 4 4 4\n",
    "0 3 3 3 3 3 0\n",
    "0 0 2 2 2 0 0\n",
    "0 0 0 D 0 0 0\n",
    "0 0 2 2 2 0 0\n",
    "0 3 3 3 3 3 0\n",
    "4 4 4 4 4 4 4\n",
    "```\n",
    "\n",
    "Where D is the signal source location and the number is the reciprocal of the likelihood of reading a 1 if the robot is in that region. For example: 3 -> (1/3) likelihood of 1 and (2/3) likelihood of reading 0."
   ]
  },
  {
   "cell_type": "code",
   "execution_count": 126,
   "id": "c6c21804",
   "metadata": {},
   "outputs": [],
   "source": [
    "# The likelihood function is \"dumbbell\" shaped\n",
    "# The measurement model is specified over a discrete space\n",
    "# Likelihood function for source location D\n",
    "# Where number is reciprocal of likelihood of 1\n",
    "# 4 -> 1/4 chance of 1, 3/4 chance of 0\n",
    "# 4 4 4 4 4 4 4\n",
    "# 0 3 3 3 3 3 0\n",
    "# 0 0 2 2 2 0 0\n",
    "# 0 0 0 D 0 0 0\n",
    "# 0 0 2 2 2 0 0\n",
    "# 0 3 3 3 3 3 0\n",
    "# 4 4 4 4 4 4 4\n",
    "\n",
    "# Grid constants and initialization\n",
    "GRID_SIZE = 25\n",
    "TOTAL_CELLS = GRID_SIZE * GRID_SIZE\n",
    "\n",
    "X, Y = torch.meshgrid(\n",
    "    torch.arange(GRID_SIZE, device=DEV),\n",
    "    torch.arange(GRID_SIZE, device=DEV),\n",
    ")\n",
    "\n",
    "ACTIONS = torch.tensor(\n",
    "    [\n",
    "        [-1, 0],  # up\n",
    "        [1, 0],  # down\n",
    "        [0, -1],  # left\n",
    "        [0, 1],  # right\n",
    "        [0, 0]  # stay\n",
    "    ],\n",
    "    device=DEV,\n",
    ").float()\n",
    "\n",
    "\n",
    "def in_bounds(x, y):\n",
    "    return (0 <= x < GRID_SIZE) and (0 <= y < GRID_SIZE)\n",
    "\n",
    "\n",
    "def random_robot_action(robot):\n",
    "    a = torch.randint(0, len(ACTIONS), (1,), device=DEV).item()\n",
    "    while True:\n",
    "        action = ACTIONS[a]\n",
    "        new_x = robot[0] + action[0]\n",
    "        new_y = robot[1] + action[1]\n",
    "        # Ensure the robot stays within the grid boundaries\n",
    "        if in_bounds(new_x, new_y):\n",
    "            break\n",
    "        a = torch.randint(0, len(ACTIONS), (1,), device=DEV).item()\n",
    "    return torch.tensor([int(new_x.item()), int(new_y.item())], device=DEV, dtype=torch.int64)\n",
    "\n",
    "# Create a grid of likelihood values\n",
    "source_likelihood = np.zeros((7, 7))\n",
    "source_likelihood[3, 3] = 1.0  # Center point has the highest likelihood\n",
    "\n",
    "for r in range(4):  # Iterate through the top half of the grid (including the middle row)\n",
    "  for c in range(7):\n",
    "    # Top and bottom rows are 1/4 chance of 1\n",
    "    if r == 0: \n",
    "      source_likelihood[r, c] = 1 / 4.0\n",
    "      source_likelihood[6 - r, c] = 1 / 4.0\n",
    "    # Second row is 1/3 chance of 1\n",
    "    elif r == 1 and (c != 0 and c != 6): \n",
    "      source_likelihood[r, c] = 1 / 3.0\n",
    "      source_likelihood[6 - r, c] = 1 / 3.0\n",
    "    # Third row is 1/2 chance of 1\n",
    "    elif r == 2 and (c != 0 and c != 1 and c != 5 and c != 6):\n",
    "      source_likelihood[r, c] = 1 / 2.0\n",
    "      source_likelihood[6 - r, c] = 1 / 2.0\n",
    "    # Center point has the highest likelihood\n",
    "    elif r == 3 and c == 3:\n",
    "      source_likelihood[r, c] = 1.0\n",
    "\n",
    "source_likelihood = torch.tensor(source_likelihood, device=DEV)\n",
    "\n",
    "# Overlay the source likelihood on the main grid to obtain the likelihood grid\n",
    "def create_likelihood(source):\n",
    "    # Overlay the source likelihood on the main grid at the given source location\n",
    "    L = torch.ones((GRID_SIZE, GRID_SIZE), device=DEV)\n",
    "    L *= 1 / TOTAL_CELLS  # Initialize with uniform distribution\n",
    "    x, y = source[0], source[1]\n",
    "    for r in range(7):\n",
    "        for c in range(7):\n",
    "            # Calculate the new coordinates based on the source location\n",
    "            # Shift into top-left corner of 7x7 likelihood grid\n",
    "            new_x = x - 3 + r\n",
    "            new_y = y - 3 + c \n",
    "            # Ensure the new coordinates are within bounds\n",
    "            if in_bounds(new_x, new_y):\n",
    "                L[new_x, new_y] = source_likelihood[r, c]\n",
    "    # Normalize the likelihood grid\n",
    "    L /= L.sum()\n",
    "    return L\n",
    "\n",
    "# LIKELIHOOD = create_likelihood(source=torch.tensor([10, 12], device=DEV))\n",
    "# Print the likelihood grid\n",
    "# print(\"Likelihood grid:\")\n",
    "# for row in LIKELIHOOD.cpu().numpy():\n",
    "#     print(\" \".join(f\"{val:.2f}\" for val in row))\n",
    "    \n",
    "def simulate_measurement(x, y, L):\n",
    "    # Simulate a measurement at the given (x, y) location\n",
    "    # The measurement is 1 with probability equal to the likelihood at that location\n",
    "    likelihood = L[x, y].item()\n",
    "    measurement = torch.tensor(1 if torch.rand(1).item() < likelihood else 0, device=DEV)\n",
    "    return measurement\n",
    "  \n",
    "def bayesian_update(L, measurement, robot):\n",
    "    # Perform a Bayesian update on the likelihood grid based on the measurement\n",
    "    # Update the likelihood grid based on the measurement\n",
    "    if measurement == 1:\n",
    "        L *= create_likelihood(robot)\n",
    "    else:\n",
    "        L *= (1 - create_likelihood(robot))\n",
    "\n",
    "    # Normalize the likelihood grid\n",
    "    L /= L.sum()\n",
    "    return L"
   ]
  },
  {
   "cell_type": "markdown",
   "id": "9470a511",
   "metadata": {},
   "source": [
    "## Problem 1: Exploration Strategy"
   ]
  },
  {
   "cell_type": "code",
   "execution_count": 131,
   "id": "082d4530",
   "metadata": {},
   "outputs": [
    {
     "name": "stdout",
     "output_type": "stream",
     "text": [
      "Source Location: [23 16]\n",
      "Initial Robot Location: [ 4 16]\n",
      "Final Robot Location: [ 8 22]\n"
     ]
    },
    {
     "data": {
      "image/png": "[encoded data removed]",
      "text/plain": [
       "<Figure size 800x800 with 1 Axes>"
      ]
     },
     "metadata": {},
     "output_type": "display_data"
    }
   ],
   "source": [
    "# Randomly sample a source location and an initial location of the robot.\n",
    "source_location = torch.randint(0, GRID_SIZE, (2,), device=DEV)\n",
    "robot_location = torch.randint(0, GRID_SIZE, (2,), device=DEV)\n",
    "print(f\"Source Location: {source_location.cpu().numpy()}\")\n",
    "print(f\"Initial Robot Location: {robot_location.cpu().numpy()}\")\n",
    "\n",
    "NUM_TIMESTEPS = 100\n",
    "\n",
    "# Develop an exploration strategy, at each time step, \n",
    "# select an action (up,down, left, right, stay) to quickly explore the search space\n",
    "# Move the robot according to the selected action\n",
    "robot_path = [robot_location.cpu().numpy()]\n",
    "L = create_likelihood(source_location)\n",
    "for t in range(1, NUM_TIMESTEPS):\n",
    "    # Randomly select an action for the robot\n",
    "    robot_location = random_robot_action(robot_location)\n",
    "    robot_path.append(robot_location.cpu().numpy())\n",
    "    # print(f\"Robot moved to: {robot_location.cpu().numpy()} at time {t}\")\n",
    "\n",
    "    # After executing each action, simulate a measurement, \n",
    "    # and use Bayesian update to update the belief of the source location.\n",
    "    Z = simulate_measurement(robot_location[1].item(), robot_location[0].item(), L)\n",
    "    L = bayesian_update(L, Z, robot_location)\n",
    "\n",
    "print(f\"Final Robot Location: {robot_location.cpu().numpy()}\")\n",
    "\n",
    "# Visualize the likelihood grid with heatmap\n",
    "plt.figure(figsize=(8, 8))\n",
    "# plt.imshow(L.cpu().numpy(), cmap='hot', interpolation='nearest')\n",
    "# plt.colorbar(label='Likelihood')\n",
    "plt.scatter(source_location[1].cpu().numpy(), source_location[0].cpu().numpy(), c='blue', label='Source Location')\n",
    "plt.scatter(robot_location[1].cpu().numpy(), robot_location[0].cpu().numpy(), c='red', label='Robot Location')\n",
    "plt.scatter(*zip(*robot_path), c='green', label='Robot Path', alpha=0.5)\n",
    "plt.title('Likelihood Grid after Bayesian Update')\n",
    "plt.xlabel('X Coordinate')\n",
    "plt.ylabel('Y Coordinate')\n",
    "plt.legend()\n",
    "plt.grid(False)\n",
    "plt.show()"
   ]
  },
  {
   "cell_type": "markdown",
   "id": "7087e9e7",
   "metadata": {},
   "source": [
    "## Problem 2: Infotaxis Algorithm"
   ]
  }
 ],
 "metadata": {
  "kernelspec": {
   "display_name": "Python 3",
   "language": "python",
   "name": "python3"
  },
  "language_info": {
   "codemirror_mode": {
    "name": "ipython",
    "version": 3
   },
   "file_extension": ".py",
   "mimetype": "text/x-python",
   "name": "python",
   "nbconvert_exporter": "python",
   "pygments_lexer": "ipython3",
   "version": "3.12.6"
  }
 },
 "nbformat": 4,
 "nbformat_minor": 5
}
