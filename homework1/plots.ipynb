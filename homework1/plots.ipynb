{
 "cells": [
  {
   "cell_type": "code",
   "execution_count": 5,
   "metadata": {},
   "outputs": [
    {
     "data": {
      "text/plain": [
       "CompletedProcess(args=['convert', '-density', '300', 'problem1.png', 'problem2.png', 'problem3.png', 'problem4.png', '-compress', 'jpeg', '-quality', '95', 'problem.pdf'], returncode=0)"
      ]
     },
     "execution_count": 5,
     "metadata": {},
     "output_type": "execute_result"
    }
   ],
   "source": [
    "import subprocess\n",
    "\n",
    "plots = [f\"problem{i}.png\" for i in range(1, 5)]\n",
    "\n",
    "# Generate a high-quality PDF from PNG images\n",
    "cmd = [\"convert\", \"-density\", \"300\"] + plots + \\\n",
    "    [\"-compress\", \"jpeg\", \"-quality\", \"95\", \"problem.pdf\"]\n",
    "\n",
    "# Execute the command\n",
    "subprocess.run(cmd, check=True)"
   ]
  }
 ],
 "metadata": {
  "kernelspec": {
   "display_name": "Python 3",
   "language": "python",
   "name": "python3"
  },
  "language_info": {
   "codemirror_mode": {
    "name": "ipython",
    "version": 3
   },
   "file_extension": ".py",
   "mimetype": "text/x-python",
   "name": "python",
   "nbconvert_exporter": "python",
   "pygments_lexer": "ipython3",
   "version": "3.12.3"
  }
 },
 "nbformat": 4,
 "nbformat_minor": 2
}
