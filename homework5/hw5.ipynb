{
 "cells": [
  {
   "cell_type": "markdown",
   "id": "3d3b0cbb",
   "metadata": {},
   "source": [
    "# Homework 5: Ergodic Control\n",
    "Due: May 30, 2025\n",
    "\n",
    "## Preliminaries"
   ]
  }
 ],
 "metadata": {
  "language_info": {
   "name": "python"
  }
 },
 "nbformat": 4,
 "nbformat_minor": 5
}
